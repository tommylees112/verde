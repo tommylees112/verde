{
  "cells": [
    {
      "cell_type": "code",
      "execution_count": null,
      "metadata": {
        "collapsed": false
      },
      "outputs": [],
      "source": [
        "%matplotlib inline"
      ]
    },
    {
      "cell_type": "markdown",
      "metadata": {},
      "source": [
        "\nGeographic Coordinates\n======================\n\nMost gridders and processing methods in Verde operate under the assumption that the data\ncoordinates are Cartesian. To process data in geographic (longitude and latitude)\ncoordinates, we must first project them. There are different ways of doing this in\nPython but most of them rely on the `PROJ library <https://proj4.org/>`__. We'll use\n`pyproj <https://github.com/jswhit/pyproj>`__ to access PROJ directly and handle the\nprojection operations.\n\n"
      ]
    },
    {
      "cell_type": "code",
      "execution_count": null,
      "metadata": {
        "collapsed": false
      },
      "outputs": [],
      "source": [
        "import pyproj\nimport numpy as np\nimport matplotlib.pyplot as plt\nimport cartopy.crs as ccrs\nimport verde as vd"
      ]
    },
    {
      "cell_type": "markdown",
      "metadata": {},
      "source": [
        "With pyproj, we can create functions that will project our coordinates to and from\ndifferent coordinate systems. For our Baja California bathymetry data, we'll use a\nMercator projection.\n\n"
      ]
    },
    {
      "cell_type": "code",
      "execution_count": null,
      "metadata": {
        "collapsed": false
      },
      "outputs": [],
      "source": [
        "data = vd.datasets.fetch_baja_bathymetry()\n# We're choosing the latitude of true scale as the mean latitude of our dataset.\nprojection = pyproj.Proj(proj=\"merc\", lat_ts=data.latitude.mean())"
      ]
    },
    {
      "cell_type": "markdown",
      "metadata": {},
      "source": [
        "The Proj object is a callable (meaning that it behaves like a function) that will take\nlongitude and latitude and return easting and northing coordinates.\n\n"
      ]
    },
    {
      "cell_type": "code",
      "execution_count": null,
      "metadata": {
        "collapsed": false
      },
      "outputs": [],
      "source": [
        "# pyproj doesn't play well with Pandas so we need to convert to numpy arrays\nproj_coords = projection(data.longitude.values, data.latitude.values)\nprint(proj_coords)"
      ]
    },
    {
      "cell_type": "markdown",
      "metadata": {},
      "source": [
        "We can plot our projected coordinates using matplotlib.\n\n"
      ]
    },
    {
      "cell_type": "code",
      "execution_count": null,
      "metadata": {
        "collapsed": false
      },
      "outputs": [],
      "source": [
        "plt.figure(figsize=(7, 6))\nplt.title(\"Projected coordinates of bathymetry measurements\")\n# Plot the bathymetry data locations as black dots\nplt.plot(proj_coords[0], proj_coords[1], \".k\", markersize=0.5)\nplt.xlabel(\"Easting (m)\")\nplt.ylabel(\"Northing (m)\")\nplt.gca().set_aspect(\"equal\")\nplt.tight_layout()\nplt.show()"
      ]
    },
    {
      "cell_type": "markdown",
      "metadata": {},
      "source": [
        "Cartesian grids\n---------------\n\nNow we can use :class:`verde.BlockReduce` and :class:`verde.Spline` on our projected\ncoordinates. We'll specify the desired grid spacing as degrees and convert it to\nCartesian using the 1 degree approx. 111 km rule-of-thumb.\n\n"
      ]
    },
    {
      "cell_type": "code",
      "execution_count": null,
      "metadata": {
        "collapsed": false
      },
      "outputs": [],
      "source": [
        "spacing = 10 / 60\nreducer = vd.BlockReduce(np.median, spacing=spacing * 111e3)\nfilter_coords, filter_bathy = reducer.filter(proj_coords, data.bathymetry_m)\nspline = vd.Spline().fit(filter_coords, filter_bathy)"
      ]
    },
    {
      "cell_type": "markdown",
      "metadata": {},
      "source": [
        "If we now call :meth:`verde.Spline.grid` we'll get back a grid evenly spaced in\nprojected Cartesian coordinates.\n\n"
      ]
    },
    {
      "cell_type": "code",
      "execution_count": null,
      "metadata": {
        "collapsed": false
      },
      "outputs": [],
      "source": [
        "grid = spline.grid(spacing=spacing * 111e3, data_names=[\"bathymetry\"])\nprint(\"Cartesian grid:\")\nprint(grid)"
      ]
    },
    {
      "cell_type": "markdown",
      "metadata": {},
      "source": [
        "We'll mask our grid using :func:`verde.distance_mask` to get rid of all the spurious\nsolutions far away from the data points.\n\n"
      ]
    },
    {
      "cell_type": "code",
      "execution_count": null,
      "metadata": {
        "collapsed": false
      },
      "outputs": [],
      "source": [
        "grid = vd.distance_mask(proj_coords, maxdist=30e3, grid=grid)\n\nplt.figure(figsize=(7, 6))\nplt.title(\"Gridded bathymetry in Cartesian coordinates\")\npc = grid.bathymetry.plot.pcolormesh(cmap=\"viridis\", vmax=0, add_colorbar=False)\nplt.colorbar(pc).set_label(\"bathymetry (m)\")\nplt.plot(filter_coords[0], filter_coords[1], \".k\", markersize=0.5)\nplt.xlabel(\"Easting (m)\")\nplt.ylabel(\"Northing (m)\")\nplt.gca().set_aspect(\"equal\")\nplt.tight_layout()\nplt.show()"
      ]
    },
    {
      "cell_type": "markdown",
      "metadata": {},
      "source": [
        "Geographic grids\n----------------\n\nThe Cartesian grid that we generated won't be evenly spaced if we convert the\ncoordinates back to geographic latitude and longitude. Verde gridders allow you to\ngenerate an evenly spaced grid in geographic coordinates through the ``projection``\nargument of the :meth:`~verde.base.BaseGridder.grid` method.\n\nBy providing a projection function (like our pyproj ``projection`` object), Verde will\ngenerate coordinates for a regular grid and then pass them through the projection\nfunction before predicting data values. This way, you can generate a grid in a\ncoordinate system other than the one you used to fit the spline.\n\n"
      ]
    },
    {
      "cell_type": "code",
      "execution_count": null,
      "metadata": {
        "collapsed": false
      },
      "outputs": [],
      "source": [
        "# Get the geographic bounding region of the data\nregion = vd.get_region((data.longitude, data.latitude))\nprint(\"Data region in degrees:\", region)\n\n# Specify the region and spacing in degrees and a projection function\ngrid_geo = spline.grid(\n    region=region,\n    spacing=spacing,\n    projection=projection,\n    dims=[\"latitude\", \"longitude\"],\n    data_names=[\"bathymetry\"],\n)\nprint(\"Geographic grid:\")\nprint(grid_geo)"
      ]
    },
    {
      "cell_type": "markdown",
      "metadata": {},
      "source": [
        "Notice that grid has longitude and latitude coordinates and slightly different number\nof points than the Cartesian grid.\n\nThe :func:`verde.distance_mask` function also supports the ``projection`` argument and\nwill project the coordinates before calculating distances.\n\n"
      ]
    },
    {
      "cell_type": "code",
      "execution_count": null,
      "metadata": {
        "collapsed": false
      },
      "outputs": [],
      "source": [
        "grid_geo = vd.distance_mask(\n    (data.longitude, data.latitude), maxdist=30e3, grid=grid_geo, projection=projection\n)"
      ]
    },
    {
      "cell_type": "markdown",
      "metadata": {},
      "source": [
        "Now we can use the Cartopy library to plot our geographic grid.\n\n"
      ]
    },
    {
      "cell_type": "code",
      "execution_count": null,
      "metadata": {
        "collapsed": false
      },
      "outputs": [],
      "source": [
        "plt.figure(figsize=(7, 6))\nax = plt.axes(projection=ccrs.Mercator())\nax.set_title(\"Geographic grid of bathymetry\")\npc = grid_geo.bathymetry.plot.pcolormesh(\n    ax=ax, transform=ccrs.PlateCarree(), vmax=0, zorder=-1, add_colorbar=False\n)\nplt.colorbar(pc).set_label(\"meters\")\nvd.datasets.setup_baja_bathymetry_map(ax, land=None)\nplt.tight_layout()\nplt.show()"
      ]
    }
  ],
  "metadata": {
    "kernelspec": {
      "display_name": "Python 3",
      "language": "python",
      "name": "python3"
    },
    "language_info": {
      "codemirror_mode": {
        "name": "ipython",
        "version": 3
      },
      "file_extension": ".py",
      "mimetype": "text/x-python",
      "name": "python",
      "nbconvert_exporter": "python",
      "pygments_lexer": "ipython3",
      "version": "3.6.7"
    }
  },
  "nbformat": 4,
  "nbformat_minor": 0
}