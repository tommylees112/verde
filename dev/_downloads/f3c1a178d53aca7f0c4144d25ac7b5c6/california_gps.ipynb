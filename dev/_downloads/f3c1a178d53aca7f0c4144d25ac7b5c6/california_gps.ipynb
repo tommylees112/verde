{
  "cells": [
    {
      "cell_type": "code",
      "execution_count": null,
      "metadata": {
        "collapsed": false
      },
      "outputs": [],
      "source": [
        "%matplotlib inline"
      ]
    },
    {
      "cell_type": "markdown",
      "metadata": {},
      "source": [
        "\nGPS velocities from California\n==============================\n\nWe provide sample 3-component GPS velocity data from the West coast of the U.S. The data\nwere cut from EarthScope Plate Boundary Observatory data provided by UNAVCO. The\nvelocities are in the North American tectonic plate reference system (NAM08). The\nvelocities and their associated standard deviations are in meters/year.\n\n"
      ]
    },
    {
      "cell_type": "code",
      "execution_count": null,
      "metadata": {
        "collapsed": false
      },
      "outputs": [],
      "source": [
        "import matplotlib.pyplot as plt\nimport cartopy.crs as ccrs\nimport numpy as np\nimport verde as vd\n\n\n# The data are in a pandas.DataFrame\ndata = vd.datasets.fetch_california_gps()\nprint(data.head())\n\n\n# Make a plot of the data using Cartopy to handle projections and coastlines\ncrs = ccrs.PlateCarree()\nfig, axes = plt.subplots(\n    1, 2, figsize=(8, 4), subplot_kw=dict(projection=ccrs.Mercator())\n)\n# Plot the horizontal velocity vectors\nax = axes[0]\nax.set_title(\"GPS horizontal velocities\")\nax.quiver(\n    data.longitude.values,\n    data.latitude.values,\n    data.velocity_east.values,\n    data.velocity_north.values,\n    scale=0.3,\n    transform=crs,\n)\nvd.datasets.setup_california_gps_map(ax)\n# Plot the vertical velocity\nax = axes[1]\nax.set_title(\"Vertical velocity\")\nmaxabs = vd.maxabs(data.velocity_up)\ntmp = ax.scatter(\n    data.longitude,\n    data.latitude,\n    c=data.velocity_up,\n    s=10,\n    vmin=-maxabs / 3,\n    vmax=maxabs / 3,\n    cmap=\"seismic\",\n    transform=crs,\n)\nplt.colorbar(tmp, ax=ax).set_label(\"meters/year\")\nvd.datasets.setup_california_gps_map(ax)\nplt.tight_layout(w_pad=0)\nplt.show()"
      ]
    }
  ],
  "metadata": {
    "kernelspec": {
      "display_name": "Python 3",
      "language": "python",
      "name": "python3"
    },
    "language_info": {
      "codemirror_mode": {
        "name": "ipython",
        "version": 3
      },
      "file_extension": ".py",
      "mimetype": "text/x-python",
      "name": "python",
      "nbconvert_exporter": "python",
      "pygments_lexer": "ipython3",
      "version": "3.6.7"
    }
  },
  "nbformat": 4,
  "nbformat_minor": 0
}