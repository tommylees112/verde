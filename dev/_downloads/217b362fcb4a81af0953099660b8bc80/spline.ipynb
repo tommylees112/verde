{
  "cells": [
    {
      "cell_type": "code",
      "execution_count": null,
      "metadata": {
        "collapsed": false
      },
      "outputs": [],
      "source": [
        "%matplotlib inline"
      ]
    },
    {
      "cell_type": "markdown",
      "metadata": {},
      "source": [
        "\nGridding with splines\n=====================\n\nBiharmonic spline interpolation is based on estimating vertical forces acting on an\nelastic sheet that yield deformations in the sheet equal to the observed data. The\nresults are similar to using :class:`verde.ScipyGridder` with ``method='cubic'`` but\nthe interpolation is usually a bit slower. However, the advantage of using\n:class:`verde.Spline` is that we can assign weights to the data and do model selection.\n\n"
      ]
    },
    {
      "cell_type": "code",
      "execution_count": null,
      "metadata": {
        "collapsed": false
      },
      "outputs": [],
      "source": [
        "import matplotlib.pyplot as plt\nimport cartopy.crs as ccrs\nimport pyproj\nimport numpy as np\nimport verde as vd\n\n# We'll test this on the air temperature data from Texas\ndata = vd.datasets.fetch_texas_wind()\ncoordinates = (data.longitude.values, data.latitude.values)\nregion = vd.get_region(coordinates)\n\n# Use a Mercator projection for our Cartesian gridder\nprojection = pyproj.Proj(proj=\"merc\", lat_ts=data.latitude.mean())\n\n# The output grid spacing will 15 arc-minutes\nspacing = 15 / 60\n\n# Now we can chain a blocked mean and spline together. The Spline can be regularized\n# by setting the damping coefficient (should be positive). It's also a good idea to set\n# the minimum distance to the average data spacing to avoid singularities in the spline.\nchain = vd.Chain(\n    [\n        (\"mean\", vd.BlockReduce(np.mean, spacing=spacing * 111e3)),\n        (\"spline\", vd.Spline(damping=1e-10, mindist=100e3)),\n    ]\n)\nprint(chain)\n\n# We can evaluate model performance by splitting the data into a training and testing\n# set. We'll use the training set to grid the data and the testing set to validate our\n# spline model.\ntrain, test = vd.train_test_split(\n    projection(*coordinates), data.air_temperature_c, random_state=0\n)\n\n# Fit the model on the training set\nchain.fit(*train)\n\n# And calculate an R^2 score coefficient on the testing set. The best possible score\n# (perfect prediction) is 1. This can tell us how good our spline is at predicting data\n# that was not in the input dataset.\nscore = chain.score(*test)\nprint(\"\\nScore: {:.3f}\".format(score))\n\n# Now we can create a geographic grid of air temperature by providing a projection\n# function to the grid method and mask points that are too far from the observations\ngrid_full = chain.grid(\n    region=region,\n    spacing=spacing,\n    projection=projection,\n    dims=[\"latitude\", \"longitude\"],\n    data_names=[\"temperature\"],\n)\ngrid = vd.distance_mask(\n    coordinates, maxdist=3 * spacing * 111e3, grid=grid_full, projection=projection\n)\nprint(grid)\n\n# Plot the grid and the original data points\nplt.figure(figsize=(8, 6))\nax = plt.axes(projection=ccrs.Mercator())\nax.set_title(\"Air temperature gridded with biharmonic spline\")\nax.plot(*coordinates, \".k\", markersize=1, transform=ccrs.PlateCarree())\ntmp = grid.temperature.plot.pcolormesh(\n    ax=ax, cmap=\"plasma\", transform=ccrs.PlateCarree(), add_colorbar=False\n)\nplt.colorbar(tmp).set_label(\"Air temperature (C)\")\n# Use an utility function to add tick labels and land and ocean features to the map.\nvd.datasets.setup_texas_wind_map(ax, region=region)\nplt.tight_layout()\nplt.show()"
      ]
    }
  ],
  "metadata": {
    "kernelspec": {
      "display_name": "Python 3",
      "language": "python",
      "name": "python3"
    },
    "language_info": {
      "codemirror_mode": {
        "name": "ipython",
        "version": 3
      },
      "file_extension": ".py",
      "mimetype": "text/x-python",
      "name": "python",
      "nbconvert_exporter": "python",
      "pygments_lexer": "ipython3",
      "version": "3.6.7"
    }
  },
  "nbformat": 4,
  "nbformat_minor": 0
}