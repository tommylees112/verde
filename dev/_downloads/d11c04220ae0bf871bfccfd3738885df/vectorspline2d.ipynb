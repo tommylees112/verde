{
  "cells": [
    {
      "cell_type": "code",
      "execution_count": null,
      "metadata": {
        "collapsed": false
      },
      "outputs": [],
      "source": [
        "%matplotlib inline"
      ]
    },
    {
      "cell_type": "markdown",
      "metadata": {},
      "source": [
        "\nGridding 2D vectors (coupled)\n=============================\n\nOne way of gridding vector data would be grid each component separately using\n:class:`verde.Spline` and :class:`verde.Vector`. Alternatively,\n:class:`verde.VectorSpline2D` can grid two components simultaneously in a way that\ncouples them through elastic deformation theory. This is particularly suited, though not\nexclusive, to data that represent elastic/semi-elastic deformation, like horizontal GPS\nvelocities.\n\n"
      ]
    },
    {
      "cell_type": "code",
      "execution_count": null,
      "metadata": {
        "collapsed": false
      },
      "outputs": [],
      "source": [
        "import matplotlib.pyplot as plt\nimport cartopy.crs as ccrs\nimport numpy as np\nimport pyproj\nimport verde as vd\n\n\n# Fetch the GPS data from the U.S. West coast. We'll grid only the horizontal components\n# of the velocities\ndata = vd.datasets.fetch_california_gps()\ncoordinates = (data.longitude.values, data.latitude.values)\nregion = vd.get_region(coordinates)\n# Use a Mercator projection because VectorSpline2D is a Cartesian gridder\nprojection = pyproj.Proj(proj=\"merc\", lat_ts=data.latitude.mean())\n\n# Split the data into a training and testing set. We'll fit the gridder on the training\n# set and use the testing set to evaluate how well the gridder is performing.\ntrain, test = vd.train_test_split(\n    projection(*coordinates), (data.velocity_east, data.velocity_north), random_state=0\n)\n\n# We'll make a 15 arc-minute grid in the end.\nspacing = 15 / 60\n\n# Chain together a blocked mean to avoid aliasing, a polynomial trend to take care of\n# the increase toward the coast, and finally the vector gridder using Poisson's ratio\n# 0.5 to couple the two horizontal components.\nchain = vd.Chain(\n    [\n        (\"mean\", vd.BlockReduce(np.mean, spacing * 111e3)),\n        (\"trend\", vd.Vector([vd.Trend(degree=1) for i in range(2)])),\n        (\"spline\", vd.VectorSpline2D(poisson=0.5, mindist=10e3)),\n    ]\n)\n# Fit on the training data\nchain.fit(*train)\n# And score on the testing data. The best possible score is 1, meaning a perfect\n# prediction of the test data.\nscore = chain.score(*test)\nprint(\"Cross-validation R^2 score: {:.2f}\".format(score))\n\n# Interpolate our horizontal GPS velocities onto a regular geographic grid and mask the\n# data that are far from the observation points\ngrid_full = chain.grid(\n    region, spacing=spacing, projection=projection, dims=[\"latitude\", \"longitude\"]\n)\ngrid = vd.distance_mask(\n    (data.longitude, data.latitude),\n    maxdist=2 * spacing * 111e3,\n    grid=grid_full,\n    projection=projection,\n)\n\n# Calculate residuals between the predictions and the original input data. Even though\n# we aren't using regularization or regularly distributed forces, the prediction won't\n# be perfect because of the BlockReduce operation. We fit the gridder on the reduced\n# observations, not the original data.\npredicted = chain.predict(projection(*coordinates))\nresiduals = (data.velocity_east - predicted[0], data.velocity_north - predicted[1])\n\n# Make maps of the original velocities, the gridded velocities, and the residuals\nfig, axes = plt.subplots(\n    1, 2, figsize=(12, 8), subplot_kw=dict(projection=ccrs.Mercator())\n)\ncrs = ccrs.PlateCarree()\n# Plot the observed data and the residuals\nax = axes[0]\ntmp = ax.quiver(\n    data.longitude.values,\n    data.latitude.values,\n    data.velocity_east.values,\n    data.velocity_north.values,\n    scale=0.3,\n    transform=crs,\n    width=0.001,\n    label=\"Velocities\",\n)\nax.quiverkey(tmp, 0.13, 0.18, 0.05, label=\"0.05 m/yr\", coordinates=\"figure\")\nax.quiver(\n    data.longitude.values,\n    data.latitude.values,\n    residuals[0].values,\n    residuals[1].values,\n    scale=0.3,\n    transform=crs,\n    color=\"r\",\n    width=0.001,\n    label=\"Residuals\",\n)\nax.set_title(\"GPS horizontal velocities\")\nax.legend(loc=\"lower left\")\nvd.datasets.setup_california_gps_map(ax)\n# Plot the gridded data and the residuals\nax = axes[1]\ntmp = ax.quiver(\n    grid.longitude.values,\n    grid.latitude.values,\n    grid.east_component.values,\n    grid.north_component.values,\n    scale=0.3,\n    transform=crs,\n    width=0.002,\n)\nax.quiverkey(tmp, 0.63, 0.18, 0.05, label=\"0.05 m/yr\", coordinates=\"figure\")\nax.quiver(\n    data.longitude.values,\n    data.latitude.values,\n    residuals[0].values,\n    residuals[1].values,\n    scale=0.3,\n    transform=crs,\n    color=\"r\",\n    width=0.001,\n)\nax.set_title(\"Gridded velocities\")\nvd.datasets.setup_california_gps_map(ax)\nplt.tight_layout()\nplt.show()"
      ]
    }
  ],
  "metadata": {
    "kernelspec": {
      "display_name": "Python 3",
      "language": "python",
      "name": "python3"
    },
    "language_info": {
      "codemirror_mode": {
        "name": "ipython",
        "version": 3
      },
      "file_extension": ".py",
      "mimetype": "text/x-python",
      "name": "python",
      "nbconvert_exporter": "python",
      "pygments_lexer": "ipython3",
      "version": "3.6.7"
    }
  },
  "nbformat": 4,
  "nbformat_minor": 0
}