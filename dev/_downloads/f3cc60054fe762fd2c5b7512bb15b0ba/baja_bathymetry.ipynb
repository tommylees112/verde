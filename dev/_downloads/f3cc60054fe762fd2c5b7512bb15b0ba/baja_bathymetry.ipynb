{
  "cells": [
    {
      "cell_type": "code",
      "execution_count": null,
      "metadata": {
        "collapsed": false
      },
      "outputs": [],
      "source": [
        "%matplotlib inline"
      ]
    },
    {
      "cell_type": "markdown",
      "metadata": {},
      "source": [
        "\nBathymetry data from Baja California\n====================================\n\nWe provide sample bathymetry data from Baja California to test the gridding\nmethods. This is the ``@tut_ship.xyz`` sample data from the `GMT\n<http://gmt.soest.hawaii.edu/>`__ tutorial. The data is downloaded to a local\ndirectory if it's not there already.\n\n"
      ]
    },
    {
      "cell_type": "code",
      "execution_count": null,
      "metadata": {
        "collapsed": false
      },
      "outputs": [],
      "source": [
        "import matplotlib.pyplot as plt\nimport cartopy.crs as ccrs\nimport verde as vd\n\n\n# The data are in a pandas.DataFrame\ndata = vd.datasets.fetch_baja_bathymetry()\nprint(data.head())\n\n# Make a Mercator map of the data using Cartopy\nplt.figure(figsize=(7, 6))\nax = plt.axes(projection=ccrs.Mercator())\nax.set_title(\"Bathymetry from Baja California\")\n# Plot the bathymetry as colored circles. Cartopy requires setting the projection of the\n# original data through the transform argument. Use PlateCarree for geographic data.\nplt.scatter(\n    data.longitude,\n    data.latitude,\n    c=data.bathymetry_m,\n    s=0.1,\n    transform=ccrs.PlateCarree(),\n)\nplt.colorbar().set_label(\"meters\")\n# Use an utility function to add tick labels and land and ocean features to the map.\nvd.datasets.setup_baja_bathymetry_map(ax)\nplt.tight_layout()\nplt.show()"
      ]
    }
  ],
  "metadata": {
    "kernelspec": {
      "display_name": "Python 3",
      "language": "python",
      "name": "python3"
    },
    "language_info": {
      "codemirror_mode": {
        "name": "ipython",
        "version": 3
      },
      "file_extension": ".py",
      "mimetype": "text/x-python",
      "name": "python",
      "nbconvert_exporter": "python",
      "pygments_lexer": "ipython3",
      "version": "3.6.7"
    }
  },
  "nbformat": 4,
  "nbformat_minor": 0
}