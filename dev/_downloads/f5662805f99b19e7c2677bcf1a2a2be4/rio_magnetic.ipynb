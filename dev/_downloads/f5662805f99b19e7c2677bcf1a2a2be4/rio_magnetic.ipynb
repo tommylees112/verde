{
  "cells": [
    {
      "cell_type": "code",
      "execution_count": null,
      "metadata": {
        "collapsed": false
      },
      "outputs": [],
      "source": [
        "%matplotlib inline"
      ]
    },
    {
      "cell_type": "markdown",
      "metadata": {},
      "source": [
        "\nMagnetic data from Rio de Janeiro\n=================================\n\nWe provide sample total-field magnetic anomaly data from an airborne survey of Rio de\nJaneiro, Brazil, from the 1970s. The data are made available by the Geological Survey of\nBrazil (CPRM) through their `GEOSGB portal <http://geosgb.cprm.gov.br/>`__. See the\ndocumentation for :func:`verde.datasets.fetch_rio_magnetic` for more details.\n\n"
      ]
    },
    {
      "cell_type": "code",
      "execution_count": null,
      "metadata": {
        "collapsed": false
      },
      "outputs": [],
      "source": [
        "import matplotlib.pyplot as plt\nimport cartopy.crs as ccrs\nimport numpy as np\nimport verde as vd\n\n# The data are in a pandas.DataFrame\ndata = vd.datasets.fetch_rio_magnetic()\nprint(data.head())\n\n# Make a Mercator map of the data using Cartopy\ncrs = ccrs.PlateCarree()\nplt.figure(figsize=(7, 5))\nax = plt.axes(projection=ccrs.Mercator())\nax.set_title(\"Total-field Magnetic Anomaly of Rio de Janeiro\")\n# Since the data is diverging (going from negative to positive) we need to center our\n# colorbar on 0. To do this, we calculate the maximum absolute value of the data to set\n# vmin and vmax.\nmaxabs = vd.maxabs(data.total_field_anomaly_nt)\n# Cartopy requires setting the projection of the original data through the transform\n# argument. Use PlateCarree for geographic data.\nplt.scatter(\n    data.longitude,\n    data.latitude,\n    c=data.total_field_anomaly_nt,\n    s=1,\n    cmap=\"seismic\",\n    vmin=-maxabs,\n    vmax=maxabs,\n    transform=crs,\n)\nplt.colorbar(pad=0.01).set_label(\"nT\")\n# Set the proper ticks for a Cartopy map\nvd.datasets.setup_rio_magnetic_map(ax)\nplt.tight_layout()\nplt.show()"
      ]
    }
  ],
  "metadata": {
    "kernelspec": {
      "display_name": "Python 3",
      "language": "python",
      "name": "python3"
    },
    "language_info": {
      "codemirror_mode": {
        "name": "ipython",
        "version": 3
      },
      "file_extension": ".py",
      "mimetype": "text/x-python",
      "name": "python",
      "nbconvert_exporter": "python",
      "pygments_lexer": "ipython3",
      "version": "3.6.7"
    }
  },
  "nbformat": 4,
  "nbformat_minor": 0
}