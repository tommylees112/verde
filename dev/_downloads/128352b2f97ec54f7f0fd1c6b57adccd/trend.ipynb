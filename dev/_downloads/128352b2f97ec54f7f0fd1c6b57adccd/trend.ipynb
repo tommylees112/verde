{
  "cells": [
    {
      "cell_type": "code",
      "execution_count": null,
      "metadata": {
        "collapsed": false
      },
      "outputs": [],
      "source": [
        "%matplotlib inline"
      ]
    },
    {
      "cell_type": "markdown",
      "metadata": {},
      "source": [
        "\nPolynomial trend\n================\n\nVerde offers the :class:`verde.Trend` class to fit a 2D polynomial trend to your data.\nThis can be useful for isolating a regional component of your data, for example, which\nis a common operation for gravity and magnetic data. Let's look at how we can use Verde\nto remove the clear positive trend from the Rio de Janeiro magnetic anomaly data.\n\n"
      ]
    },
    {
      "cell_type": "code",
      "execution_count": null,
      "metadata": {
        "collapsed": false
      },
      "outputs": [],
      "source": [
        "import numpy as np\nimport matplotlib.pyplot as plt\nimport cartopy.crs as ccrs\nimport verde as vd\n\n# Load the Rio de Janeiro total field magnetic anomaly data as a pandas.DataFrame\ndata = vd.datasets.fetch_rio_magnetic()\nprint(\"Original data:\")\nprint(data.head())\n\n# Fit a 2nd degree 2D polynomial to the anomaly data\ncoordinates = (data.longitude, data.latitude)\ntrend = vd.Trend(degree=2).fit(coordinates, data.total_field_anomaly_nt)\nprint(\"\\nTrend estimator:\", trend)\n\n# Add the estimated trend and the residual data to the DataFrame\ndata[\"trend\"] = trend.predict(coordinates)\ndata[\"residual\"] = data.total_field_anomaly_nt - data.trend\nprint(\"\\nUpdated DataFrame:\")\nprint(data.head())\n\n\n# Make a function to plot the data using the same colorbar\ndef plot_data(column, i, title):\n    \"Plot the column from the DataFrame in the ith subplot\"\n    crs = ccrs.PlateCarree()\n    ax = plt.subplot(2, 2, i, projection=ccrs.Mercator())\n    ax.set_title(title)\n    # Set vmin and vmax to the extremes of the original data\n    maxabs = vd.maxabs(data.total_field_anomaly_nt)\n    mappable = ax.scatter(\n        data.longitude,\n        data.latitude,\n        c=data[column],\n        s=1,\n        cmap=\"seismic\",\n        vmin=-maxabs,\n        vmax=maxabs,\n        transform=crs,\n    )\n    # Set the proper ticks for a Cartopy map\n    vd.datasets.setup_rio_magnetic_map(ax)\n    return mappable\n\n\nplt.figure(figsize=(9, 8))\n\n# Plot the data fields and capture the mappable returned by scatter to use for\n# the colorbar\nmappable = plot_data(\"total_field_anomaly_nt\", 1, \"Original magnetic anomaly\")\nplot_data(\"trend\", 2, \"Regional trend\")\nplot_data(\"residual\", 3, \"Residual\")\n\n# Make histograms of the data and the residuals to show that the trend was\n# removed\nax = plt.subplot(2, 2, 4)\nax.set_title(\"Distribution of data\")\nax.hist(data.total_field_anomaly_nt, bins=\"auto\", alpha=0.7, label=\"Original data\")\nax.hist(data.residual, bins=\"auto\", alpha=0.7, label=\"Residuals\")\nax.legend()\nax.set_xlabel(\"Total field anomaly (nT)\")\n\n# Add a single colorbar on top of the histogram plot where there is some space\ncax = plt.axes((0.58, 0.44, 0.18, 0.015))\ncb = plt.colorbar(\n    mappable, cax=cax, orientation=\"horizontal\", ticks=np.arange(-800, 801, 400)\n)\ncb.set_label(\"nT\")\n\nplt.tight_layout()\nplt.show()"
      ]
    }
  ],
  "metadata": {
    "kernelspec": {
      "display_name": "Python 3",
      "language": "python",
      "name": "python3"
    },
    "language_info": {
      "codemirror_mode": {
        "name": "ipython",
        "version": 3
      },
      "file_extension": ".py",
      "mimetype": "text/x-python",
      "name": "python",
      "nbconvert_exporter": "python",
      "pygments_lexer": "ipython3",
      "version": "3.6.7"
    }
  },
  "nbformat": 4,
  "nbformat_minor": 0
}