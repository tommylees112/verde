{
  "cells": [
    {
      "cell_type": "code",
      "execution_count": null,
      "metadata": {
        "collapsed": false
      },
      "outputs": [],
      "source": [
        "%matplotlib inline"
      ]
    },
    {
      "cell_type": "markdown",
      "metadata": {},
      "source": [
        "\nWind speed data from Texas\n==========================\n\nThis is average wind speed and air temperature for data for the state of Texas, USA, on\nFebruary 26 2018. The original data was downloaded from `Iowa State University\n<https://mesonet.agron.iastate.edu/request/download.phtml>`__.\n\n"
      ]
    },
    {
      "cell_type": "code",
      "execution_count": null,
      "metadata": {
        "collapsed": false
      },
      "outputs": [],
      "source": [
        "import matplotlib.pyplot as plt\nimport cartopy.crs as ccrs\nimport verde as vd\n\n\n# The data are in a pandas.DataFrame\ndata = vd.datasets.fetch_texas_wind()\nprint(data.head())\n\n# Make a Mercator map of the data using Cartopy\nplt.figure(figsize=(8, 6))\nax = plt.axes(projection=ccrs.Mercator())\nax.set_title(\"Wind speed and air temperature for Texas\")\n# Plot the air temperature as colored circles and the wind speed as vectors.\nplt.scatter(\n    data.longitude,\n    data.latitude,\n    c=data.air_temperature_c,\n    s=100,\n    cmap=\"plasma\",\n    transform=ccrs.PlateCarree(),\n)\nplt.colorbar().set_label(\"Air temperature (C)\")\nax.quiver(\n    data.longitude.values,\n    data.latitude.values,\n    data.wind_speed_east_knots.values,\n    data.wind_speed_north_knots.values,\n    width=0.003,\n    transform=ccrs.PlateCarree(),\n)\n# Use an utility function to add tick labels and land and ocean features to the map.\nvd.datasets.setup_texas_wind_map(ax)\nplt.tight_layout()\nplt.show()"
      ]
    }
  ],
  "metadata": {
    "kernelspec": {
      "display_name": "Python 3",
      "language": "python",
      "name": "python3"
    },
    "language_info": {
      "codemirror_mode": {
        "name": "ipython",
        "version": 3
      },
      "file_extension": ".py",
      "mimetype": "text/x-python",
      "name": "python",
      "nbconvert_exporter": "python",
      "pygments_lexer": "ipython3",
      "version": "3.6.7"
    }
  },
  "nbformat": 4,
  "nbformat_minor": 0
}